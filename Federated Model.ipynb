{
 "cells": [
  {
   "cell_type": "markdown",
   "metadata": {
    "id": "ADf3xYLX2HHP"
   },
   "source": [
    "# NOTE\n",
    "[0512 note]\n",
    "*  use ALL camera devices to train Federated Model --> 4\n",
    "\n",
    "*  D#5/6/8/9 local model and global model for evaluation\n",
    "\n",
    "*  Adam // 1000 baseline_data // other device benign_tr:benign_test -> 0.8:0.2\n",
    "\n",
    "[0519 note]\n",
    "*  Add 'server_aggregate_M()' function for FedAvgM\n",
    "\n",
    "*  'server_aggregate()' for FedAvg\n",
    "\n",
    "[0520 note]\n",
    "\n",
    "*  use D#568 for training FL, test on D#123479\n",
    "\n",
    "[0528 note]\n",
    "\n",
    "* train #12347, test #5689\n",
    "* train #12345678, test #9\n",
    "\n",
    "[0531 note]\n",
    "\n",
    "* train #123456789"
   ]
  },
  {
   "cell_type": "markdown",
   "metadata": {
    "id": "vjoXjjOj2Kaq"
   },
   "source": [
    "# Import Libraries/Packages & Datasets"
   ]
  },
  {
   "cell_type": "code",
   "execution_count": 4,
   "metadata": {},
   "outputs": [],
   "source": [
    "import pandas as pd\n",
    "import numpy as np\n",
    "import seaborn as sns\n",
    "import matplotlib.pyplot as plt\n",
    "# from collections import Counter\n",
    "# from scipy import stats\n",
    "# import os\n",
    "import random\n",
    "from tqdm import tqdm\n",
    "# import logging\n",
    "# import itertools\n",
    "import time\n",
    "# from collections import defaultdict\n",
    "# from datetime import timedelta\n",
    "import copy\n",
    "\n",
    "from sklearn import preprocessing\n",
    "# from sklearn.preprocessing import scale\n",
    "# from sklearn.preprocessing import MinMaxScaler\n",
    "from sklearn.preprocessing import StandardScaler\n",
    "from sklearn.model_selection import train_test_split\n",
    "# from sklearn.metrics import recall_score, auc, roc_curve, confusion_matrix, classification_report, precision_recall_fscore_support, f1_score\n",
    "from sklearn.utils import shuffle\n",
    "\n",
    "import torch\n",
    "from torch import nn, optim\n",
    "import torch.nn.functional as F\n",
    "from torch.utils.data import Dataset, DataLoader\n",
    "# from torchvision import datasets, transforms\n",
    "\n",
    "torch.backends.cudnn.benchmark=True\n",
    "device = torch.device(\"cuda\" if torch.cuda.is_available() else \"cpu\")\n",
    "torch.cuda.manual_seed(5703)\n",
    "torch.manual_seed(5703)\n",
    "np.random.seed(5703)\n",
    "random.seed(5703)"
   ]
  },
  {
   "cell_type": "code",
   "execution_count": 6,
   "metadata": {
    "colab": {
     "base_uri": "https://localhost:8080/"
    },
    "executionInfo": {
     "elapsed": 68492,
     "status": "ok",
     "timestamp": 1625208934673,
     "user": {
      "displayName": "Jane Zou",
      "photoUrl": "https://lh3.googleusercontent.com/a-/AOh14GiUdm9ehp01myA8qMFEjs9s-aJHKwnep3JuLYR0BQ=s64",
      "userId": "02362905829031895379"
     },
     "user_tz": -600
    },
    "id": "hsKSt5lF2Cou",
    "outputId": "acd812d5-2bde-45e7-d90c-e11d97ab58c5"
   },
   "outputs": [
    {
     "data": {
      "text/plain": [
       "((225745, 79),\n",
       " (286467, 79),\n",
       " (191033, 79),\n",
       " (529918, 79),\n",
       " (288602, 79),\n",
       " (170366, 79),\n",
       " (445909, 79),\n",
       " (692703, 79))"
      ]
     },
     "execution_count": 6,
     "metadata": {},
     "output_type": "execute_result"
    }
   ],
   "source": [
    "# load data\n",
    "d1 = pd.read_csv('/home/ubuntu/inf-retrieval/AD_FL_DL/Friday-WorkingHours-Afternoon-DDos.pcap_ISCX.csv')\n",
    "d2 = pd.read_csv('/home/ubuntu/inf-retrieval/AD_FL_DL/Friday-WorkingHours-Afternoon-PortScan.pcap_ISCX.csv')\n",
    "d3 = pd.read_csv('/home/ubuntu/inf-retrieval/AD_FL_DL/Friday-WorkingHours-Morning.pcap_ISCX.csv')\n",
    "d4 = pd.read_csv('/home/ubuntu/inf-retrieval/AD_FL_DL/Monday-WorkingHours.pcap_ISCX.csv')\n",
    "d5 = pd.read_csv('/home/ubuntu/inf-retrieval/AD_FL_DL/Thursday-WorkingHours-Afternoon-Infilteration.pcap_ISCX.csv')\n",
    "d6 = pd.read_csv('/home/ubuntu/inf-retrieval/AD_FL_DL/Thursday-WorkingHours-Morning-WebAttacks.pcap_ISCX.csv')\n",
    "d7 = pd.read_csv('/home/ubuntu/inf-retrieval/AD_FL_DL/Tuesday-WorkingHours.pcap_ISCX.csv')\n",
    "d8 = pd.read_csv('/home/ubuntu/inf-retrieval/AD_FL_DL/Wednesday-workingHours.pcap_ISCX.csv')\n",
    "\n",
    "d1.shape, d2.shape, d3.shape, d4.shape, d5.shape, d6.shape, d7.shape, d8.shape,\n",
    "\n",
    "# load dataset for other types of devices here....."
   ]
  },
  {
   "cell_type": "markdown",
   "metadata": {
    "id": "LM8FgkcQ4uBb"
   },
   "source": [
    "# Data Pre-processing"
   ]
  },
  {
   "cell_type": "code",
   "execution_count": 7,
   "metadata": {
    "executionInfo": {
     "elapsed": 10,
     "status": "ok",
     "timestamp": 1625208934674,
     "user": {
      "displayName": "Jane Zou",
      "photoUrl": "https://lh3.googleusercontent.com/a-/AOh14GiUdm9ehp01myA8qMFEjs9s-aJHKwnep3JuLYR0BQ=s64",
      "userId": "02362905829031895379"
     },
     "user_tz": -600
    },
    "id": "jaQOpkU12Chi"
   },
   "outputs": [],
   "source": [
    "def pre_processing(data):\n",
    "    data.columns = data.columns.str.strip()  # Removes leading/trailing spaces\n",
    "\n",
    "    data = data.drop(data.columns[0], axis=1)\n",
    "\n",
    "    benign = data[data['Label'] == 'BENIGN'] \n",
    "    benign = benign.drop('Label',axis=1)\n",
    "    benign['Label'] = 0\n",
    "\n",
    "    abnormal = data[data['Label'] != 'BENIGN']\n",
    "    abnormal = abnormal.drop('Label',axis=1)\n",
    "    abnormal['Label'] = 1\n",
    "\n",
    "    # split benign data evenly to three parts\n",
    "    benign_train, benign_tr, benign_test = np.split(benign, [int((1/3)*len(benign)), int((2/3)*len(benign))])\n",
    "    benign_test_mix = benign_test.copy()    # with label 116\n",
    "\n",
    "    benign_train = benign_train.fillna(benign_train.mean())\n",
    "    benign_train.replace([np.inf, -np.inf], np.nan, inplace=True)  # Replace infinite values with NaN\n",
    "    benign_train = benign_train.dropna()  # \n",
    "\n",
    "    train_label = benign_train['Label']\n",
    "\n",
    "    benign_train = benign_train.drop('Label',axis=1)\n",
    "    benign_tr = benign_tr.drop('Label',axis=1)\n",
    "\n",
    "    benign_tr = benign_tr.fillna(benign_train.mean())\n",
    "    benign_tr.replace([np.inf, -np.inf], np.nan, inplace=True)  # Replace infinite values with NaN\n",
    "    benign_tr = benign_tr.dropna()  # \n",
    "\n",
    "    # Create Mix data\n",
    "    abnormal_sample = abnormal.sample(frac = 1)              # use all abnormal data.  (frac = 0.1) -> select 10%\n",
    "    mix_temp = pd.concat([benign_test_mix, abnormal_sample]) # concatenate\n",
    "    mix_temp = shuffle(mix_temp, random_state=1)  \n",
    "\n",
    "    mix = mix_temp.copy()                   # mix with label # 116\n",
    "    mix_data = mix_temp.drop('Label',axis=1) # only data      # 115\n",
    "\n",
    "    mix_data = mix_data.fillna(benign_train.mean())\n",
    "    mix_data.replace([np.inf, -np.inf], np.nan, inplace=True)  # Replace infinite values with NaN\n",
    "    mix_data = mix_data.dropna()  # \n",
    "    \n",
    "    mix_label = mix['Label']\n",
    "\n",
    "    scaler = StandardScaler()\n",
    "    benign_train = scaler.fit_transform(benign_train) # 115 all benign \n",
    "    benign_tr = scaler.transform(benign_tr)           # 115 all benign \n",
    "    mix_data = scaler.transform(mix_data)             # ([xxx, 115])\n",
    "\n",
    "    # keep benign_train as original form here --> for later use\n",
    "    benign_tr = torch.from_numpy(np.array(benign_tr)).float().to(device)    # 115  all benign --> for calculate threshold\n",
    "    mix_data = torch.from_numpy(np.array(mix_data)).float().to(device)      # 115  benign + abnormal  --> for evaluation\n",
    "    mix_label = torch.tensor(np.array(mix_label))\n",
    "\n",
    "    return benign_train, benign_tr, mix_data, mix_label"
   ]
  },
  {
   "cell_type": "code",
   "execution_count": null,
   "metadata": {
    "executionInfo": {
     "elapsed": 9,
     "status": "ok",
     "timestamp": 1625208934676,
     "user": {
      "displayName": "Jane Zou",
      "photoUrl": "https://lh3.googleusercontent.com/a-/AOh14GiUdm9ehp01myA8qMFEjs9s-aJHKwnep3JuLYR0BQ=s64",
      "userId": "02362905829031895379"
     },
     "user_tz": -600
    },
    "id": "Luz9BSZR2Ccp"
   },
   "outputs": [],
   "source": [
    "def other_pre_processing(data):\n",
    "    data = data.drop(data.columns[0], axis=1)\n",
    "\n",
    "    benign = data[data['Label'] == 'BENIGN'] \n",
    "    benign = benign.drop('Label',axis = 1)\n",
    "    benign['Label'] = 0\n",
    "\n",
    "    abnormal = data[data['Label'] != 'BENIGN']\n",
    "    abnormal = abnormal.drop('Label',axis = 1)\n",
    "    abnormal['Label'] = 1\n",
    "\n",
    "    # split benign data to two parts\n",
    "    benign_tr, benign_test = train_test_split(benign, test_size = 0.2, random_state = 5703)\n",
    "    benign_tr = benign_tr.drop('Label',axis=1)\n",
    "\n",
    "    # Create Mix data\n",
    "    abnormal_sample = abnormal.sample(frac = 1)           # 116  use all abnoraml, but can change to use part\n",
    "    mix_temp = pd.concat([benign_test, abnormal_sample])  # 116\n",
    "    mix_temp = shuffle(mix_temp, random_state=1)          # for test model\n",
    "\n",
    "    mix = mix_temp.copy()                   # mix data with label # 116\n",
    "    mix_data = mix_temp.drop('Label',axis=1) # no label # 115\n",
    "    mix_label = mix['Label']\n",
    "\n",
    "    # Replace inf/-inf with NaN\n",
    "    benign_tr = benign_tr.replace([np.inf, -np.inf], np.nan)\n",
    "\n",
    "    # Then fill NaN with mean or drop them\n",
    "    benign_tr = benign_tr.fillna(benign_tr.mean())\n",
    "\n",
    "    # Now safe to scale\n",
    "    scaler = StandardScaler()\n",
    "    benign_tr = scaler.fit_transform(benign_tr)\n",
    "\n",
    "    # Apply same transformation to mix_data\n",
    "    mix_data = mix_data.replace([np.inf, -np.inf], np.nan)\n",
    "    mix_data = mix_data.fillna(mix_data.mean())\n",
    "    mix_data = scaler.transform(mix_data)\n",
    "\n",
    "    # Standardisation\n",
    "    scaler = StandardScaler()\n",
    "    benign_tr = scaler.fit_transform(benign_tr)        \n",
    "    mix_data = scaler.transform(mix_data) \n",
    "\n",
    "    benign_tr = benign_tr.fillna(benign_tr.mean())\n",
    "    benign_tr.replace([np.inf, -np.inf], np.nan, inplace=True)  # Replace infinite values with NaN\n",
    "    benign_tr = benign_tr.dropna()  # Then drop the rows with NaN\n",
    "\n",
    "    benign_tr = torch.from_numpy(np.array(benign_tr)).float().to(device)  # 115  all benign --> for calculate threshold  # Fill NaN with the column mean\n",
    "    mix_data = torch.from_numpy(np.array(mix_data)).float().to(device)    # 115  data -> benign + abnormal  --> for evaluation\n",
    "    mix_label = torch.tensor(np.array(mix_label))                         # 0/1  label -> benign + abnormal  --> for evaluation\n",
    "\n",
    "    return benign_tr, mix_data, mix_label"
   ]
  },
  {
   "cell_type": "code",
   "execution_count": 9,
   "metadata": {
    "executionInfo": {
     "elapsed": 22967,
     "status": "ok",
     "timestamp": 1625208957634,
     "user": {
      "displayName": "Jane Zou",
      "photoUrl": "https://lh3.googleusercontent.com/a-/AOh14GiUdm9ehp01myA8qMFEjs9s-aJHKwnep3JuLYR0BQ=s64",
      "userId": "02362905829031895379"
     },
     "user_tz": -600
    },
    "id": "fhbXII4L2CZF"
   },
   "outputs": [
    {
     "name": "stderr",
     "output_type": "stream",
     "text": [
      "/home/ubuntu/inf-retrieval/AD_FL_DL/myenv/lib/python3.12/site-packages/numpy/_core/fromnumeric.py:57: FutureWarning: 'DataFrame.swapaxes' is deprecated and will be removed in a future version. Please use 'DataFrame.transpose' instead.\n",
      "  return bound(*args, **kwds)\n",
      "/home/ubuntu/inf-retrieval/AD_FL_DL/myenv/lib/python3.12/site-packages/numpy/_core/fromnumeric.py:57: FutureWarning: 'DataFrame.swapaxes' is deprecated and will be removed in a future version. Please use 'DataFrame.transpose' instead.\n",
      "  return bound(*args, **kwds)\n",
      "/home/ubuntu/inf-retrieval/AD_FL_DL/myenv/lib/python3.12/site-packages/numpy/_core/fromnumeric.py:57: FutureWarning: 'DataFrame.swapaxes' is deprecated and will be removed in a future version. Please use 'DataFrame.transpose' instead.\n",
      "  return bound(*args, **kwds)\n",
      "/home/ubuntu/inf-retrieval/AD_FL_DL/myenv/lib/python3.12/site-packages/numpy/_core/fromnumeric.py:57: FutureWarning: 'DataFrame.swapaxes' is deprecated and will be removed in a future version. Please use 'DataFrame.transpose' instead.\n",
      "  return bound(*args, **kwds)\n",
      "/home/ubuntu/inf-retrieval/AD_FL_DL/myenv/lib/python3.12/site-packages/numpy/_core/fromnumeric.py:57: FutureWarning: 'DataFrame.swapaxes' is deprecated and will be removed in a future version. Please use 'DataFrame.transpose' instead.\n",
      "  return bound(*args, **kwds)\n",
      "/home/ubuntu/inf-retrieval/AD_FL_DL/myenv/lib/python3.12/site-packages/numpy/_core/fromnumeric.py:57: FutureWarning: 'DataFrame.swapaxes' is deprecated and will be removed in a future version. Please use 'DataFrame.transpose' instead.\n",
      "  return bound(*args, **kwds)\n",
      "/home/ubuntu/inf-retrieval/AD_FL_DL/myenv/lib/python3.12/site-packages/numpy/_core/fromnumeric.py:57: FutureWarning: 'DataFrame.swapaxes' is deprecated and will be removed in a future version. Please use 'DataFrame.transpose' instead.\n",
      "  return bound(*args, **kwds)\n",
      "/home/ubuntu/inf-retrieval/AD_FL_DL/myenv/lib/python3.12/site-packages/numpy/_core/fromnumeric.py:57: FutureWarning: 'DataFrame.swapaxes' is deprecated and will be removed in a future version. Please use 'DataFrame.transpose' instead.\n",
      "  return bound(*args, **kwds)\n"
     ]
    }
   ],
   "source": [
    "# for Federated Model training\n",
    "benign_train_1, benign_tr_1, mix_data_1, mix_label_1 = pre_processing(d1)\n",
    "benign_train_2, benign_tr_2, mix_data_2, mix_label_2 = pre_processing(d2)\n",
    "benign_train_3, benign_tr_3, mix_data_3, mix_label_3 = pre_processing(d3)\n",
    "benign_train_4, benign_tr_4, mix_data_4, mix_label_4 = pre_processing(d4)\n",
    "benign_train_5, benign_tr_5, mix_data_5, mix_label_5 = pre_processing(d5)\n",
    "benign_train_6, benign_tr_6, mix_data_6, mix_label_6 = pre_processing(d6)\n",
    "benign_train_7, benign_tr_7, mix_data_7, mix_label_7 = pre_processing(d7)\n",
    "benign_train_8, benign_tr_8, mix_data_8, mix_label_8 = pre_processing(d8)\n"
   ]
  },
  {
   "cell_type": "code",
   "execution_count": 14,
   "metadata": {},
   "outputs": [
    {
     "name": "stdout",
     "output_type": "stream",
     "text": [
      "Index([' Destination Port', ' Flow Duration', ' Total Fwd Packets',\n",
      "       ' Total Backward Packets', 'Total Length of Fwd Packets',\n",
      "       ' Total Length of Bwd Packets', ' Fwd Packet Length Max',\n",
      "       ' Fwd Packet Length Min', ' Fwd Packet Length Mean',\n",
      "       ' Fwd Packet Length Std', 'Bwd Packet Length Max',\n",
      "       ' Bwd Packet Length Min', ' Bwd Packet Length Mean',\n",
      "       ' Bwd Packet Length Std', 'Flow Bytes/s', ' Flow Packets/s',\n",
      "       ' Flow IAT Mean', ' Flow IAT Std', ' Flow IAT Max', ' Flow IAT Min',\n",
      "       'Fwd IAT Total', ' Fwd IAT Mean', ' Fwd IAT Std', ' Fwd IAT Max',\n",
      "       ' Fwd IAT Min', 'Bwd IAT Total', ' Bwd IAT Mean', ' Bwd IAT Std',\n",
      "       ' Bwd IAT Max', ' Bwd IAT Min', 'Fwd PSH Flags', ' Bwd PSH Flags',\n",
      "       ' Fwd URG Flags', ' Bwd URG Flags', ' Fwd Header Length',\n",
      "       ' Bwd Header Length', 'Fwd Packets/s', ' Bwd Packets/s',\n",
      "       ' Min Packet Length', ' Max Packet Length', ' Packet Length Mean',\n",
      "       ' Packet Length Std', ' Packet Length Variance', 'FIN Flag Count',\n",
      "       ' SYN Flag Count', ' RST Flag Count', ' PSH Flag Count',\n",
      "       ' ACK Flag Count', ' URG Flag Count', ' CWE Flag Count',\n",
      "       ' ECE Flag Count', ' Down/Up Ratio', ' Average Packet Size',\n",
      "       ' Avg Fwd Segment Size', ' Avg Bwd Segment Size',\n",
      "       ' Fwd Header Length.1', 'Fwd Avg Bytes/Bulk', ' Fwd Avg Packets/Bulk',\n",
      "       ' Fwd Avg Bulk Rate', ' Bwd Avg Bytes/Bulk', ' Bwd Avg Packets/Bulk',\n",
      "       'Bwd Avg Bulk Rate', 'Subflow Fwd Packets', ' Subflow Fwd Bytes',\n",
      "       ' Subflow Bwd Packets', ' Subflow Bwd Bytes', 'Init_Win_bytes_forward',\n",
      "       ' Init_Win_bytes_backward', ' act_data_pkt_fwd',\n",
      "       ' min_seg_size_forward', 'Active Mean', ' Active Std', ' Active Max',\n",
      "       ' Active Min', 'Idle Mean', ' Idle Std', ' Idle Max', ' Idle Min',\n",
      "       ' Label'],\n",
      "      dtype='object')\n"
     ]
    }
   ],
   "source": [
    "print(d1.columns)"
   ]
  },
  {
   "cell_type": "code",
   "execution_count": 14,
   "metadata": {
    "executionInfo": {
     "elapsed": 20,
     "status": "ok",
     "timestamp": 1625208957635,
     "user": {
      "displayName": "Jane Zou",
      "photoUrl": "https://lh3.googleusercontent.com/a-/AOh14GiUdm9ehp01myA8qMFEjs9s-aJHKwnep3JuLYR0BQ=s64",
      "userId": "02362905829031895379"
     },
     "user_tz": -600
    },
    "id": "3ggabWua5Ixb"
   },
   "outputs": [
    {
     "ename": "ValueError",
     "evalue": "Input X contains infinity or a value too large for dtype('float64').",
     "output_type": "error",
     "traceback": [
      "\u001b[31m---------------------------------------------------------------------------\u001b[39m",
      "\u001b[31mValueError\u001b[39m                                Traceback (most recent call last)",
      "\u001b[36mCell\u001b[39m\u001b[36m \u001b[39m\u001b[32mIn[14]\u001b[39m\u001b[32m, line 2\u001b[39m\n\u001b[32m      1\u001b[39m \u001b[38;5;66;03m# device for test federated model\u001b[39;00m\n\u001b[32m----> \u001b[39m\u001b[32m2\u001b[39m benign_tr_1, mix_data_1, mix_label_1 = \u001b[43mother_pre_processing\u001b[49m\u001b[43m(\u001b[49m\u001b[43md1\u001b[49m\u001b[43m)\u001b[49m\n\u001b[32m      3\u001b[39m benign_tr_2, mix_data_2, mix_label_2 = other_pre_processing(d2)\n\u001b[32m      4\u001b[39m benign_tr_3, mix_data_3, mix_label_3 = other_pre_processing(d3)\n",
      "\u001b[36mCell\u001b[39m\u001b[36m \u001b[39m\u001b[32mIn[13]\u001b[39m\u001b[32m, line 27\u001b[39m, in \u001b[36mother_pre_processing\u001b[39m\u001b[34m(data)\u001b[39m\n\u001b[32m     25\u001b[39m \u001b[38;5;66;03m# Standardisation\u001b[39;00m\n\u001b[32m     26\u001b[39m scaler = StandardScaler()\n\u001b[32m---> \u001b[39m\u001b[32m27\u001b[39m benign_tr = \u001b[43mscaler\u001b[49m\u001b[43m.\u001b[49m\u001b[43mfit_transform\u001b[49m\u001b[43m(\u001b[49m\u001b[43mbenign_tr\u001b[49m\u001b[43m)\u001b[49m        \n\u001b[32m     28\u001b[39m mix_data = scaler.transform(mix_data) \n\u001b[32m     30\u001b[39m benign_tr = benign_tr.fillna(benign_tr.mean())\n",
      "\u001b[36mFile \u001b[39m\u001b[32m~/inf-retrieval/AD_FL_DL/myenv/lib/python3.12/site-packages/sklearn/utils/_set_output.py:319\u001b[39m, in \u001b[36m_wrap_method_output.<locals>.wrapped\u001b[39m\u001b[34m(self, X, *args, **kwargs)\u001b[39m\n\u001b[32m    317\u001b[39m \u001b[38;5;129m@wraps\u001b[39m(f)\n\u001b[32m    318\u001b[39m \u001b[38;5;28;01mdef\u001b[39;00m\u001b[38;5;250m \u001b[39m\u001b[34mwrapped\u001b[39m(\u001b[38;5;28mself\u001b[39m, X, *args, **kwargs):\n\u001b[32m--> \u001b[39m\u001b[32m319\u001b[39m     data_to_wrap = \u001b[43mf\u001b[49m\u001b[43m(\u001b[49m\u001b[38;5;28;43mself\u001b[39;49m\u001b[43m,\u001b[49m\u001b[43m \u001b[49m\u001b[43mX\u001b[49m\u001b[43m,\u001b[49m\u001b[43m \u001b[49m\u001b[43m*\u001b[49m\u001b[43margs\u001b[49m\u001b[43m,\u001b[49m\u001b[43m \u001b[49m\u001b[43m*\u001b[49m\u001b[43m*\u001b[49m\u001b[43mkwargs\u001b[49m\u001b[43m)\u001b[49m\n\u001b[32m    320\u001b[39m     \u001b[38;5;28;01mif\u001b[39;00m \u001b[38;5;28misinstance\u001b[39m(data_to_wrap, \u001b[38;5;28mtuple\u001b[39m):\n\u001b[32m    321\u001b[39m         \u001b[38;5;66;03m# only wrap the first output for cross decomposition\u001b[39;00m\n\u001b[32m    322\u001b[39m         return_tuple = (\n\u001b[32m    323\u001b[39m             _wrap_data_with_container(method, data_to_wrap[\u001b[32m0\u001b[39m], X, \u001b[38;5;28mself\u001b[39m),\n\u001b[32m    324\u001b[39m             *data_to_wrap[\u001b[32m1\u001b[39m:],\n\u001b[32m    325\u001b[39m         )\n",
      "\u001b[36mFile \u001b[39m\u001b[32m~/inf-retrieval/AD_FL_DL/myenv/lib/python3.12/site-packages/sklearn/base.py:918\u001b[39m, in \u001b[36mTransformerMixin.fit_transform\u001b[39m\u001b[34m(self, X, y, **fit_params)\u001b[39m\n\u001b[32m    903\u001b[39m         warnings.warn(\n\u001b[32m    904\u001b[39m             (\n\u001b[32m    905\u001b[39m                 \u001b[33mf\u001b[39m\u001b[33m\"\u001b[39m\u001b[33mThis object (\u001b[39m\u001b[38;5;132;01m{\u001b[39;00m\u001b[38;5;28mself\u001b[39m.\u001b[34m__class__\u001b[39m.\u001b[34m__name__\u001b[39m\u001b[38;5;132;01m}\u001b[39;00m\u001b[33m) has a `transform`\u001b[39m\u001b[33m\"\u001b[39m\n\u001b[32m   (...)\u001b[39m\u001b[32m    913\u001b[39m             \u001b[38;5;167;01mUserWarning\u001b[39;00m,\n\u001b[32m    914\u001b[39m         )\n\u001b[32m    916\u001b[39m \u001b[38;5;28;01mif\u001b[39;00m y \u001b[38;5;129;01mis\u001b[39;00m \u001b[38;5;28;01mNone\u001b[39;00m:\n\u001b[32m    917\u001b[39m     \u001b[38;5;66;03m# fit method of arity 1 (unsupervised transformation)\u001b[39;00m\n\u001b[32m--> \u001b[39m\u001b[32m918\u001b[39m     \u001b[38;5;28;01mreturn\u001b[39;00m \u001b[38;5;28;43mself\u001b[39;49m\u001b[43m.\u001b[49m\u001b[43mfit\u001b[49m\u001b[43m(\u001b[49m\u001b[43mX\u001b[49m\u001b[43m,\u001b[49m\u001b[43m \u001b[49m\u001b[43m*\u001b[49m\u001b[43m*\u001b[49m\u001b[43mfit_params\u001b[49m\u001b[43m)\u001b[49m.transform(X)\n\u001b[32m    919\u001b[39m \u001b[38;5;28;01melse\u001b[39;00m:\n\u001b[32m    920\u001b[39m     \u001b[38;5;66;03m# fit method of arity 2 (supervised transformation)\u001b[39;00m\n\u001b[32m    921\u001b[39m     \u001b[38;5;28;01mreturn\u001b[39;00m \u001b[38;5;28mself\u001b[39m.fit(X, y, **fit_params).transform(X)\n",
      "\u001b[36mFile \u001b[39m\u001b[32m~/inf-retrieval/AD_FL_DL/myenv/lib/python3.12/site-packages/sklearn/preprocessing/_data.py:894\u001b[39m, in \u001b[36mStandardScaler.fit\u001b[39m\u001b[34m(self, X, y, sample_weight)\u001b[39m\n\u001b[32m    892\u001b[39m \u001b[38;5;66;03m# Reset internal state before fitting\u001b[39;00m\n\u001b[32m    893\u001b[39m \u001b[38;5;28mself\u001b[39m._reset()\n\u001b[32m--> \u001b[39m\u001b[32m894\u001b[39m \u001b[38;5;28;01mreturn\u001b[39;00m \u001b[38;5;28;43mself\u001b[39;49m\u001b[43m.\u001b[49m\u001b[43mpartial_fit\u001b[49m\u001b[43m(\u001b[49m\u001b[43mX\u001b[49m\u001b[43m,\u001b[49m\u001b[43m \u001b[49m\u001b[43my\u001b[49m\u001b[43m,\u001b[49m\u001b[43m \u001b[49m\u001b[43msample_weight\u001b[49m\u001b[43m)\u001b[49m\n",
      "\u001b[36mFile \u001b[39m\u001b[32m~/inf-retrieval/AD_FL_DL/myenv/lib/python3.12/site-packages/sklearn/base.py:1389\u001b[39m, in \u001b[36m_fit_context.<locals>.decorator.<locals>.wrapper\u001b[39m\u001b[34m(estimator, *args, **kwargs)\u001b[39m\n\u001b[32m   1382\u001b[39m     estimator._validate_params()\n\u001b[32m   1384\u001b[39m \u001b[38;5;28;01mwith\u001b[39;00m config_context(\n\u001b[32m   1385\u001b[39m     skip_parameter_validation=(\n\u001b[32m   1386\u001b[39m         prefer_skip_nested_validation \u001b[38;5;129;01mor\u001b[39;00m global_skip_validation\n\u001b[32m   1387\u001b[39m     )\n\u001b[32m   1388\u001b[39m ):\n\u001b[32m-> \u001b[39m\u001b[32m1389\u001b[39m     \u001b[38;5;28;01mreturn\u001b[39;00m \u001b[43mfit_method\u001b[49m\u001b[43m(\u001b[49m\u001b[43mestimator\u001b[49m\u001b[43m,\u001b[49m\u001b[43m \u001b[49m\u001b[43m*\u001b[49m\u001b[43margs\u001b[49m\u001b[43m,\u001b[49m\u001b[43m \u001b[49m\u001b[43m*\u001b[49m\u001b[43m*\u001b[49m\u001b[43mkwargs\u001b[49m\u001b[43m)\u001b[49m\n",
      "\u001b[36mFile \u001b[39m\u001b[32m~/inf-retrieval/AD_FL_DL/myenv/lib/python3.12/site-packages/sklearn/preprocessing/_data.py:930\u001b[39m, in \u001b[36mStandardScaler.partial_fit\u001b[39m\u001b[34m(self, X, y, sample_weight)\u001b[39m\n\u001b[32m    898\u001b[39m \u001b[38;5;250m\u001b[39m\u001b[33;03m\"\"\"Online computation of mean and std on X for later scaling.\u001b[39;00m\n\u001b[32m    899\u001b[39m \n\u001b[32m    900\u001b[39m \u001b[33;03mAll of X is processed as a single batch. This is intended for cases\u001b[39;00m\n\u001b[32m   (...)\u001b[39m\u001b[32m    927\u001b[39m \u001b[33;03m    Fitted scaler.\u001b[39;00m\n\u001b[32m    928\u001b[39m \u001b[33;03m\"\"\"\u001b[39;00m\n\u001b[32m    929\u001b[39m first_call = \u001b[38;5;129;01mnot\u001b[39;00m \u001b[38;5;28mhasattr\u001b[39m(\u001b[38;5;28mself\u001b[39m, \u001b[33m\"\u001b[39m\u001b[33mn_samples_seen_\u001b[39m\u001b[33m\"\u001b[39m)\n\u001b[32m--> \u001b[39m\u001b[32m930\u001b[39m X = \u001b[43mvalidate_data\u001b[49m\u001b[43m(\u001b[49m\n\u001b[32m    931\u001b[39m \u001b[43m    \u001b[49m\u001b[38;5;28;43mself\u001b[39;49m\u001b[43m,\u001b[49m\n\u001b[32m    932\u001b[39m \u001b[43m    \u001b[49m\u001b[43mX\u001b[49m\u001b[43m,\u001b[49m\n\u001b[32m    933\u001b[39m \u001b[43m    \u001b[49m\u001b[43maccept_sparse\u001b[49m\u001b[43m=\u001b[49m\u001b[43m(\u001b[49m\u001b[33;43m\"\u001b[39;49m\u001b[33;43mcsr\u001b[39;49m\u001b[33;43m\"\u001b[39;49m\u001b[43m,\u001b[49m\u001b[43m \u001b[49m\u001b[33;43m\"\u001b[39;49m\u001b[33;43mcsc\u001b[39;49m\u001b[33;43m\"\u001b[39;49m\u001b[43m)\u001b[49m\u001b[43m,\u001b[49m\n\u001b[32m    934\u001b[39m \u001b[43m    \u001b[49m\u001b[43mdtype\u001b[49m\u001b[43m=\u001b[49m\u001b[43mFLOAT_DTYPES\u001b[49m\u001b[43m,\u001b[49m\n\u001b[32m    935\u001b[39m \u001b[43m    \u001b[49m\u001b[43mensure_all_finite\u001b[49m\u001b[43m=\u001b[49m\u001b[33;43m\"\u001b[39;49m\u001b[33;43mallow-nan\u001b[39;49m\u001b[33;43m\"\u001b[39;49m\u001b[43m,\u001b[49m\n\u001b[32m    936\u001b[39m \u001b[43m    \u001b[49m\u001b[43mreset\u001b[49m\u001b[43m=\u001b[49m\u001b[43mfirst_call\u001b[49m\u001b[43m,\u001b[49m\n\u001b[32m    937\u001b[39m \u001b[43m\u001b[49m\u001b[43m)\u001b[49m\n\u001b[32m    938\u001b[39m n_features = X.shape[\u001b[32m1\u001b[39m]\n\u001b[32m    940\u001b[39m \u001b[38;5;28;01mif\u001b[39;00m sample_weight \u001b[38;5;129;01mis\u001b[39;00m \u001b[38;5;129;01mnot\u001b[39;00m \u001b[38;5;28;01mNone\u001b[39;00m:\n",
      "\u001b[36mFile \u001b[39m\u001b[32m~/inf-retrieval/AD_FL_DL/myenv/lib/python3.12/site-packages/sklearn/utils/validation.py:2944\u001b[39m, in \u001b[36mvalidate_data\u001b[39m\u001b[34m(_estimator, X, y, reset, validate_separately, skip_check_array, **check_params)\u001b[39m\n\u001b[32m   2942\u001b[39m         out = X, y\n\u001b[32m   2943\u001b[39m \u001b[38;5;28;01melif\u001b[39;00m \u001b[38;5;129;01mnot\u001b[39;00m no_val_X \u001b[38;5;129;01mand\u001b[39;00m no_val_y:\n\u001b[32m-> \u001b[39m\u001b[32m2944\u001b[39m     out = \u001b[43mcheck_array\u001b[49m\u001b[43m(\u001b[49m\u001b[43mX\u001b[49m\u001b[43m,\u001b[49m\u001b[43m \u001b[49m\u001b[43minput_name\u001b[49m\u001b[43m=\u001b[49m\u001b[33;43m\"\u001b[39;49m\u001b[33;43mX\u001b[39;49m\u001b[33;43m\"\u001b[39;49m\u001b[43m,\u001b[49m\u001b[43m \u001b[49m\u001b[43m*\u001b[49m\u001b[43m*\u001b[49m\u001b[43mcheck_params\u001b[49m\u001b[43m)\u001b[49m\n\u001b[32m   2945\u001b[39m \u001b[38;5;28;01melif\u001b[39;00m no_val_X \u001b[38;5;129;01mand\u001b[39;00m \u001b[38;5;129;01mnot\u001b[39;00m no_val_y:\n\u001b[32m   2946\u001b[39m     out = _check_y(y, **check_params)\n",
      "\u001b[36mFile \u001b[39m\u001b[32m~/inf-retrieval/AD_FL_DL/myenv/lib/python3.12/site-packages/sklearn/utils/validation.py:1107\u001b[39m, in \u001b[36mcheck_array\u001b[39m\u001b[34m(array, accept_sparse, accept_large_sparse, dtype, order, copy, force_writeable, force_all_finite, ensure_all_finite, ensure_non_negative, ensure_2d, allow_nd, ensure_min_samples, ensure_min_features, estimator, input_name)\u001b[39m\n\u001b[32m   1101\u001b[39m     \u001b[38;5;28;01mraise\u001b[39;00m \u001b[38;5;167;01mValueError\u001b[39;00m(\n\u001b[32m   1102\u001b[39m         \u001b[33m\"\u001b[39m\u001b[33mFound array with dim \u001b[39m\u001b[38;5;132;01m%d\u001b[39;00m\u001b[33m. \u001b[39m\u001b[38;5;132;01m%s\u001b[39;00m\u001b[33m expected <= 2.\u001b[39m\u001b[33m\"\u001b[39m\n\u001b[32m   1103\u001b[39m         % (array.ndim, estimator_name)\n\u001b[32m   1104\u001b[39m     )\n\u001b[32m   1106\u001b[39m \u001b[38;5;28;01mif\u001b[39;00m ensure_all_finite:\n\u001b[32m-> \u001b[39m\u001b[32m1107\u001b[39m     \u001b[43m_assert_all_finite\u001b[49m\u001b[43m(\u001b[49m\n\u001b[32m   1108\u001b[39m \u001b[43m        \u001b[49m\u001b[43marray\u001b[49m\u001b[43m,\u001b[49m\n\u001b[32m   1109\u001b[39m \u001b[43m        \u001b[49m\u001b[43minput_name\u001b[49m\u001b[43m=\u001b[49m\u001b[43minput_name\u001b[49m\u001b[43m,\u001b[49m\n\u001b[32m   1110\u001b[39m \u001b[43m        \u001b[49m\u001b[43mestimator_name\u001b[49m\u001b[43m=\u001b[49m\u001b[43mestimator_name\u001b[49m\u001b[43m,\u001b[49m\n\u001b[32m   1111\u001b[39m \u001b[43m        \u001b[49m\u001b[43mallow_nan\u001b[49m\u001b[43m=\u001b[49m\u001b[43mensure_all_finite\u001b[49m\u001b[43m \u001b[49m\u001b[43m==\u001b[49m\u001b[43m \u001b[49m\u001b[33;43m\"\u001b[39;49m\u001b[33;43mallow-nan\u001b[39;49m\u001b[33;43m\"\u001b[39;49m\u001b[43m,\u001b[49m\n\u001b[32m   1112\u001b[39m \u001b[43m    \u001b[49m\u001b[43m)\u001b[49m\n\u001b[32m   1114\u001b[39m \u001b[38;5;28;01mif\u001b[39;00m copy:\n\u001b[32m   1115\u001b[39m     \u001b[38;5;28;01mif\u001b[39;00m _is_numpy_namespace(xp):\n\u001b[32m   1116\u001b[39m         \u001b[38;5;66;03m# only make a copy if `array` and `array_orig` may share memory`\u001b[39;00m\n",
      "\u001b[36mFile \u001b[39m\u001b[32m~/inf-retrieval/AD_FL_DL/myenv/lib/python3.12/site-packages/sklearn/utils/validation.py:120\u001b[39m, in \u001b[36m_assert_all_finite\u001b[39m\u001b[34m(X, allow_nan, msg_dtype, estimator_name, input_name)\u001b[39m\n\u001b[32m    117\u001b[39m \u001b[38;5;28;01mif\u001b[39;00m first_pass_isfinite:\n\u001b[32m    118\u001b[39m     \u001b[38;5;28;01mreturn\u001b[39;00m\n\u001b[32m--> \u001b[39m\u001b[32m120\u001b[39m \u001b[43m_assert_all_finite_element_wise\u001b[49m\u001b[43m(\u001b[49m\n\u001b[32m    121\u001b[39m \u001b[43m    \u001b[49m\u001b[43mX\u001b[49m\u001b[43m,\u001b[49m\n\u001b[32m    122\u001b[39m \u001b[43m    \u001b[49m\u001b[43mxp\u001b[49m\u001b[43m=\u001b[49m\u001b[43mxp\u001b[49m\u001b[43m,\u001b[49m\n\u001b[32m    123\u001b[39m \u001b[43m    \u001b[49m\u001b[43mallow_nan\u001b[49m\u001b[43m=\u001b[49m\u001b[43mallow_nan\u001b[49m\u001b[43m,\u001b[49m\n\u001b[32m    124\u001b[39m \u001b[43m    \u001b[49m\u001b[43mmsg_dtype\u001b[49m\u001b[43m=\u001b[49m\u001b[43mmsg_dtype\u001b[49m\u001b[43m,\u001b[49m\n\u001b[32m    125\u001b[39m \u001b[43m    \u001b[49m\u001b[43mestimator_name\u001b[49m\u001b[43m=\u001b[49m\u001b[43mestimator_name\u001b[49m\u001b[43m,\u001b[49m\n\u001b[32m    126\u001b[39m \u001b[43m    \u001b[49m\u001b[43minput_name\u001b[49m\u001b[43m=\u001b[49m\u001b[43minput_name\u001b[49m\u001b[43m,\u001b[49m\n\u001b[32m    127\u001b[39m \u001b[43m\u001b[49m\u001b[43m)\u001b[49m\n",
      "\u001b[36mFile \u001b[39m\u001b[32m~/inf-retrieval/AD_FL_DL/myenv/lib/python3.12/site-packages/sklearn/utils/validation.py:169\u001b[39m, in \u001b[36m_assert_all_finite_element_wise\u001b[39m\u001b[34m(X, xp, allow_nan, msg_dtype, estimator_name, input_name)\u001b[39m\n\u001b[32m    152\u001b[39m \u001b[38;5;28;01mif\u001b[39;00m estimator_name \u001b[38;5;129;01mand\u001b[39;00m input_name == \u001b[33m\"\u001b[39m\u001b[33mX\u001b[39m\u001b[33m\"\u001b[39m \u001b[38;5;129;01mand\u001b[39;00m has_nan_error:\n\u001b[32m    153\u001b[39m     \u001b[38;5;66;03m# Improve the error message on how to handle missing values in\u001b[39;00m\n\u001b[32m    154\u001b[39m     \u001b[38;5;66;03m# scikit-learn.\u001b[39;00m\n\u001b[32m    155\u001b[39m     msg_err += (\n\u001b[32m    156\u001b[39m         \u001b[33mf\u001b[39m\u001b[33m\"\u001b[39m\u001b[38;5;130;01m\\n\u001b[39;00m\u001b[38;5;132;01m{\u001b[39;00mestimator_name\u001b[38;5;132;01m}\u001b[39;00m\u001b[33m does not accept missing values\u001b[39m\u001b[33m\"\u001b[39m\n\u001b[32m    157\u001b[39m         \u001b[33m\"\u001b[39m\u001b[33m encoded as NaN natively. For supervised learning, you might want\u001b[39m\u001b[33m\"\u001b[39m\n\u001b[32m   (...)\u001b[39m\u001b[32m    167\u001b[39m         \u001b[33m\"\u001b[39m\u001b[33m#estimators-that-handle-nan-values\u001b[39m\u001b[33m\"\u001b[39m\n\u001b[32m    168\u001b[39m     )\n\u001b[32m--> \u001b[39m\u001b[32m169\u001b[39m \u001b[38;5;28;01mraise\u001b[39;00m \u001b[38;5;167;01mValueError\u001b[39;00m(msg_err)\n",
      "\u001b[31mValueError\u001b[39m: Input X contains infinity or a value too large for dtype('float64')."
     ]
    }
   ],
   "source": [
    "# device for test federated model\n",
    "benign_tr_1, mix_data_1, mix_label_1 = other_pre_processing(d1)\n",
    "benign_tr_2, mix_data_2, mix_label_2 = other_pre_processing(d2)\n",
    "benign_tr_3, mix_data_3, mix_label_3 = other_pre_processing(d3)\n",
    "benign_tr_4, mix_data_4, mix_label_4 = other_pre_processing(d4)\n",
    "benign_tr_5, mix_data_5, mix_label_5 = other_pre_processing(d5)\n",
    "benign_tr_6, mix_data_6, mix_label_6 = other_pre_processing(d6)\n",
    "benign_tr_7, mix_data_7, mix_label_7 = other_pre_processing(d7)\n",
    "benign_tr_8, mix_data_8, mix_label_8 = other_pre_processing(d8)\n",
    "# benign_tr_9, mix_data_9, mix_label_9 = other_pre_processing(d9)"
   ]
  },
  {
   "cell_type": "markdown",
   "metadata": {
    "id": "uNMp3gv26NSG"
   },
   "source": [
    "# Prepare for training"
   ]
  },
  {
   "cell_type": "markdown",
   "metadata": {
    "id": "a38_inUN7lNU"
   },
   "source": [
    "## Parameters Setting"
   ]
  },
  {
   "cell_type": "code",
   "execution_count": null,
   "metadata": {
    "executionInfo": {
     "elapsed": 19,
     "status": "ok",
     "timestamp": 1625208957636,
     "user": {
      "displayName": "Jane Zou",
      "photoUrl": "https://lh3.googleusercontent.com/a-/AOh14GiUdm9ehp01myA8qMFEjs9s-aJHKwnep3JuLYR0BQ=s64",
      "userId": "02362905829031895379"
     },
     "user_tz": -600
    },
    "id": "XAsJUgfC5IuY"
   },
   "outputs": [],
   "source": [
    "num_clients = 8      # Number of clients\n",
    "num_selected = 3     # Typically, num_selected is around 30–40% of the num_clients.\n",
    "batch_size = 78\n",
    "baseline_num = 1000  # choose some data from the train set to retrain the data from trained model \n",
    "num_rounds = 3#100      # Total number of communication rounds for the global model to train.\n",
    "epochs = 5          # for train client model\n",
    "retrain_epochs = 5  # Total number of retraining rounds on the global server after receiving the model weights \n",
    "                      # from all the clients that participated in the communication round."
   ]
  },
  {
   "cell_type": "markdown",
   "metadata": {
    "id": "nGd3ym1F7gck"
   },
   "source": [
    "## Retraining Mechanism"
   ]
  },
  {
   "cell_type": "code",
   "execution_count": 49,
   "metadata": {
    "executionInfo": {
     "elapsed": 19,
     "status": "ok",
     "timestamp": 1625208957637,
     "user": {
      "displayName": "Jane Zou",
      "photoUrl": "https://lh3.googleusercontent.com/a-/AOh14GiUdm9ehp01myA8qMFEjs9s-aJHKwnep3JuLYR0BQ=s64",
      "userId": "02362905829031895379"
     },
     "user_tz": -600
    },
    "id": "-LMi9W6Q5Iq-"
   },
   "outputs": [],
   "source": [
    "# For retraining mechanism\n",
    "# pick baseline_data for each device\n",
    "def baseline_data(size = baseline_num, batch_size = batch_size): # baseline_num\n",
    "    rng = np.random.default_rng()\n",
    "    x_1 = rng.choice(benign_train_1, size=size, replace = True, shuffle = True, axis=0) # [[[[[[randomly select]]]]]] \n",
    "    x_2 = rng.choice(benign_train_2, size=size, replace = True, shuffle = True, axis=0)\n",
    "    x_3 = rng.choice(benign_train_3, size=size, replace = True, shuffle = True, axis=0)\n",
    "    x_4 = rng.choice(benign_train_4, size=size, replace = True, shuffle = True, axis=0)\n",
    "    x_5 = rng.choice(benign_train_5, size=size, replace = True, shuffle = True, axis=0)\n",
    "    x_6 = rng.choice(benign_train_6, size=size, replace = True, shuffle = True, axis=0)\n",
    "    x_7 = rng.choice(benign_train_7, size=size, replace = True, shuffle = True, axis=0)\n",
    "    x_8 = rng.choice(benign_train_8, size=size, replace = True, shuffle = True, axis=0)\n",
    "\n",
    "\n",
    "\n",
    "    loader_1 = torch.utils.data.DataLoader(x_1, batch_size=batch_size)\n",
    "    loader_2 = torch.utils.data.DataLoader(x_2, batch_size=batch_size)\n",
    "    loader_3 = torch.utils.data.DataLoader(x_3, batch_size=batch_size)\n",
    "    loader_4 = torch.utils.data.DataLoader(x_4, batch_size=batch_size)\n",
    "    loader_5 = torch.utils.data.DataLoader(x_5, batch_size=batch_size)\n",
    "    loader_6 = torch.utils.data.DataLoader(x_6, batch_size=batch_size)\n",
    "    loader_7 = torch.utils.data.DataLoader(x_7, batch_size=batch_size)\n",
    "    loader_8 = torch.utils.data.DataLoader(x_8, batch_size=batch_size)\n",
    "\n",
    "\n",
    "    loaders = {'D1': loader_1,\n",
    "               'D2': loader_2,\n",
    "               'D3': loader_3,\n",
    "               'D4': loader_4,\n",
    "               'D5': loader_5,\n",
    "               'D6': loader_6,\n",
    "               'D7': loader_7,\n",
    "               'D8': loader_8}\n",
    "\n",
    "    return loaders"
   ]
  },
  {
   "cell_type": "markdown",
   "metadata": {
    "id": "uF4N6pX57Bmo"
   },
   "source": [
    "## FedAvg / FedAvgM"
   ]
  },
  {
   "cell_type": "code",
   "execution_count": 50,
   "metadata": {
    "executionInfo": {
     "elapsed": 18,
     "status": "ok",
     "timestamp": 1625208957637,
     "user": {
      "displayName": "Jane Zou",
      "photoUrl": "https://lh3.googleusercontent.com/a-/AOh14GiUdm9ehp01myA8qMFEjs9s-aJHKwnep3JuLYR0BQ=s64",
      "userId": "02362905829031895379"
     },
     "user_tz": -600
    },
    "id": "GEhJPuT5633Z"
   },
   "outputs": [],
   "source": [
    "# aggregates the model weights received from every client \n",
    "# and updates the global model with updated weights\n",
    "\n",
    "# FedAvg\n",
    "def server_aggregate(global_model, client_models, client_lens):\n",
    "    total = sum(client_lens)\n",
    "    n = len(client_models)\n",
    "    # n = num_selected\n",
    "    global_dict = global_model.state_dict()\n",
    "    for k in global_dict.keys(): # calculate average weight/bias --> avg_w/b\n",
    "        global_dict[k] -= torch.stack([client_models[i].state_dict()[k].float() * (n * client_lens[i] / total) for i in range(len(client_models))], 0).mean(0)\n",
    "    global_model.load_state_dict(global_dict)\n",
    "    for model in client_models:\n",
    "        model.load_state_dict(global_model.state_dict()) # local model get updated weight/bias\n",
    "\n",
    "# FedAvgM\n",
    "def server_aggregate_M(global_model, client_models, client_lens):\n",
    "    total = sum(client_lens)    # 592    sum [51, 122, 162, 257]\n",
    "    n = len(client_models)      # 4 local clients\n",
    "    global_dict = global_model.state_dict() # weight/bias dict --> {'encoder.0.weight': Tensor with shape torch.Size([86, 115]), 'encoder.0.bias':....} 16 items\n",
    "    temp = copy.deepcopy(global_dict)       # temporary weight/bias dict\n",
    "    v = {x:1 for x in copy.deepcopy(global_dict)}   # initialise v\n",
    "\n",
    "    for i,k in enumerate(global_dict.keys()): \n",
    "        # calculate average weight/bias --> avg_w/b\n",
    "        temp[k] = torch.stack([client_models[i].state_dict()[k].float() * (n * client_lens[i] / total) for i in range(len(client_models))], 0).mean(0)\n",
    "        temp_v = 0.9 * v[k] + temp[k]               # v = 0.9v + avg_w/b   momentum=0.9\n",
    "        global_dict[k] = global_dict[k] - temp_v    # w = w - v\n",
    "    global_model.load_state_dict(global_dict)\n",
    "\n",
    "    for model in client_models:\n",
    "        model.load_state_dict(global_model.state_dict()) # local model get updated weight/bias\n",
    "        \n"
   ]
  },
  {
   "cell_type": "markdown",
   "metadata": {
    "id": "CJ3RxUY37MjK"
   },
   "source": [
    "## Utilities"
   ]
  },
  {
   "cell_type": "code",
   "execution_count": 51,
   "metadata": {
    "executionInfo": {
     "elapsed": 18,
     "status": "ok",
     "timestamp": 1625208957638,
     "user": {
      "displayName": "Jane Zou",
      "photoUrl": "https://lh3.googleusercontent.com/a-/AOh14GiUdm9ehp01myA8qMFEjs9s-aJHKwnep3JuLYR0BQ=s64",
      "userId": "02362905829031895379"
     },
     "user_tz": -600
    },
    "id": "VNriwNbu5Imo"
   },
   "outputs": [],
   "source": [
    "# for main training process\n",
    "# collect training data of each device\n",
    "def train_data_loaders(batch_size = batch_size):\n",
    "    data_1 = torch.utils.data.DataLoader(benign_train_1, batch_size = batch_size, shuffle=True)\n",
    "    data_2 = torch.utils.data.DataLoader(benign_train_2, batch_size = batch_size, shuffle=True)\n",
    "    data_3 = torch.utils.data.DataLoader(benign_train_3, batch_size = batch_size, shuffle=True)\n",
    "    data_4 = torch.utils.data.DataLoader(benign_train_4, batch_size = batch_size, shuffle=True)\n",
    "    data_5 = torch.utils.data.DataLoader(benign_train_5, batch_size = batch_size, shuffle=True)\n",
    "    data_6 = torch.utils.data.DataLoader(benign_train_6, batch_size = batch_size, shuffle=True)\n",
    "    data_7 = torch.utils.data.DataLoader(benign_train_7, batch_size = batch_size, shuffle=True)\n",
    "    data_8 = torch.utils.data.DataLoader(benign_train_8, batch_size = batch_size, shuffle=True)\n",
    "\n",
    "    client_loaders = {'D1': data_1,\n",
    "                      'D2': data_2,\n",
    "                      'D3': data_3,\n",
    "                      'D4': data_4,\n",
    "                      'D5': data_5,\n",
    "                      'D6': data_6,\n",
    "                      'D7': data_7,\n",
    "                      'D8': data_8}\n",
    "\n",
    "    return client_loaders"
   ]
  },
  {
   "cell_type": "code",
   "execution_count": 52,
   "metadata": {
    "executionInfo": {
     "elapsed": 18,
     "status": "ok",
     "timestamp": 1625208957639,
     "user": {
      "displayName": "Jane Zou",
      "photoUrl": "https://lh3.googleusercontent.com/a-/AOh14GiUdm9ehp01myA8qMFEjs9s-aJHKwnep3JuLYR0BQ=s64",
      "userId": "02362905829031895379"
     },
     "user_tz": -600
    },
    "id": "iqaFf_cS5Ifg"
   },
   "outputs": [],
   "source": [
    "# for updates/trains client model on client data\n",
    "# local training round that takes place for every selected client\n",
    "\n",
    "def client_update(client_model, optimizer, train_data, epoch=3):\n",
    "    model.train()\n",
    "    for e in range(epoch):\n",
    "        running_loss = 0.0\n",
    "        for bx, (data) in enumerate(train_data):\n",
    "            output = client_model(data.float()) # tensor 115\n",
    "            optimizer.zero_grad()\n",
    "            # criterion = nn.MSELoss(reduction='mean')\n",
    "            # loss = criterion(data.to(device), output)\n",
    "            loss = nn.MSELoss(reduction='mean')(data.float().to(device), output)\n",
    "            loss.backward()\n",
    "            optimizer.step()\n",
    "            # print(loss.item())\n",
    "            running_loss += loss.item()\n",
    "        # print(running_loss)\n",
    "        epoch_loss = running_loss/len(train_data)\n",
    "        # metrics['train_loss'].append(epoch_loss)\n",
    "    return epoch_loss\n",
    "    # return loss.item()\n",
    "\n",
    "\n",
    "\n",
    "# synchronizes the client model with global weights (before training)\n",
    "\n",
    "def client_syn(client_model, global_model):\n",
    "    client_model.load_state_dict(global_model.state_dict())\n"
   ]
  },
  {
   "cell_type": "markdown",
   "metadata": {
    "id": "sPE5Fx5I7HZM"
   },
   "source": [
    "## Deep Auto-encoder Model"
   ]
  },
  {
   "cell_type": "code",
   "execution_count": null,
   "metadata": {
    "executionInfo": {
     "elapsed": 17,
     "status": "ok",
     "timestamp": 1625208957639,
     "user": {
      "displayName": "Jane Zou",
      "photoUrl": "https://lh3.googleusercontent.com/a-/AOh14GiUdm9ehp01myA8qMFEjs9s-aJHKwnep3JuLYR0BQ=s64",
      "userId": "02362905829031895379"
     },
     "user_tz": -600
    },
    "id": "QkVroa1V5IjN"
   },
   "outputs": [],
   "source": [
    "# Deep Auto-encoder model\n",
    "\n",
    "input_dim = 78\n",
    "class AEModel(nn.Module):\n",
    "    def __init__(self):\n",
    "        super(AEModel,self).__init__()\n",
    "\n",
    "        self.encoder = nn.Sequential(\n",
    "            nn.Linear(input_dim, int(0.75*input_dim)),\n",
    "            nn.Tanh(),\n",
    "            nn.Linear(int(0.75*input_dim), int(0.5*input_dim)),\n",
    "            nn.Tanh(),\n",
    "            nn.Linear(int(0.5*input_dim), int(0.33*input_dim)),\n",
    "            nn.Tanh(),\n",
    "            nn.Linear(int(0.33*input_dim), int(0.25*input_dim)),\n",
    "            nn.Tanh(),\n",
    "        )\n",
    "\n",
    "        self.decoder = nn.Sequential(\n",
    "            nn.Linear(int(0.25*input_dim), int(0.33*input_dim)),\n",
    "            nn.Tanh(),\n",
    "            nn.Linear(int(0.33*input_dim), int(0.5*input_dim)),\n",
    "            nn.Tanh(),\n",
    "            nn.Linear(int(0.5*input_dim), int(0.75*input_dim)),\n",
    "            nn.Tanh(),\n",
    "            nn.Linear(int(0.75*input_dim), int(input_dim)),\n",
    "            nn.Tanh(),\n",
    "        )\n",
    "    def forward(self, x):\n",
    "        encode = self.encoder(x)\n",
    "        decoder = self.decoder(encode)\n",
    "        return decoder"
   ]
  },
  {
   "cell_type": "markdown",
   "metadata": {
    "id": "aAX3Z0BI8JDQ"
   },
   "source": [
    "## Initialisation"
   ]
  },
  {
   "cell_type": "code",
   "execution_count": 55,
   "metadata": {
    "executionInfo": {
     "elapsed": 17,
     "status": "ok",
     "timestamp": 1625208957640,
     "user": {
      "displayName": "Jane Zou",
      "photoUrl": "https://lh3.googleusercontent.com/a-/AOh14GiUdm9ehp01myA8qMFEjs9s-aJHKwnep3JuLYR0BQ=s64",
      "userId": "02362905829031895379"
     },
     "user_tz": -600
    },
    "id": "ZDbfUGGW63zk"
   },
   "outputs": [],
   "source": [
    "# Initializing models and optimizer\n",
    "\n",
    "global_model = AEModel().to(device)\n",
    "client_models = [AEModel().to(device) for _ in range(num_selected)] # part or all clients\n",
    "# print(client_models)\n",
    "for model in client_models:\n",
    "    model.load_state_dict(global_model.state_dict())\n",
    "\n",
    "# method_env = {'lr': (0.012, 0.012, 0.012, 0.0005)}\n",
    "opt = [torch.optim.SGD(model.parameters(), lr = 0.012, weight_decay=1e-05, momentum=0.9) for model in client_models]\n",
    "# lr_list = [0.012, 0.012, 0.012, 0.00005]\n",
    "# # opt = [torch.optim.SGD(model.parameters(), lr = lr_list[client_models.index(model)], weight_decay=1e-05, momentum=0.9) for model in client_models]\n",
    "# opt = [torch.optim.Adam(model.parameters(), lr = lr_list[client_models.index(model)], weight_decay=1e-05) for model in client_models]\n",
    "# opt = [torch.optim.Adam(model.parameters(), lr = 0.012, weight_decay=1e-05) for model in client_models]"
   ]
  },
  {
   "cell_type": "code",
   "execution_count": 56,
   "metadata": {
    "executionInfo": {
     "elapsed": 16,
     "status": "ok",
     "timestamp": 1625208957640,
     "user": {
      "displayName": "Jane Zou",
      "photoUrl": "https://lh3.googleusercontent.com/a-/AOh14GiUdm9ehp01myA8qMFEjs9s-aJHKwnep3JuLYR0BQ=s64",
      "userId": "02362905829031895379"
     },
     "user_tz": -600
    },
    "id": "rzw68gpe63xS"
   },
   "outputs": [],
   "source": [
    "baseline_data = baseline_data() # size = 1000\n",
    "train_loader = train_data_loaders() #batch_size=128\n",
    "# devices = ['D5','D6','D8','D9']\n",
    "# devices = ['D5','D6','D8']\n",
    "# devices = ['D1','D2','D3','D4','D7']\n",
    "devices = ['D1','D2','D3','D4','D5','D6','D7','D8']"
   ]
  },
  {
   "cell_type": "markdown",
   "metadata": {
    "id": "YuOW_VP89i7j"
   },
   "source": [
    "# Training Federated Model"
   ]
  },
  {
   "cell_type": "code",
   "execution_count": 57,
   "metadata": {
    "colab": {
     "base_uri": "https://localhost:8080/"
    },
    "executionInfo": {
     "elapsed": 25770,
     "status": "ok",
     "timestamp": 1625208983394,
     "user": {
      "displayName": "Jane Zou",
      "photoUrl": "https://lh3.googleusercontent.com/a-/AOh14GiUdm9ehp01myA8qMFEjs9s-aJHKwnep3JuLYR0BQ=s64",
      "userId": "02362905829031895379"
     },
     "user_tz": -600
    },
    "id": "rT-jMXex63t8",
    "outputId": "407d2497-a271-4dcd-b6bd-115c79a5e347"
   },
   "outputs": [
    {
     "name": "stdout",
     "output_type": "stream",
     "text": [
      "\n",
      "round:  1\n",
      "client_idx:  [2 0 7]\n"
     ]
    },
    {
     "name": "stderr",
     "output_type": "stream",
     "text": [
      "100%|██████████| 3/3 [56:35<00:00, 1131.93s/it]\n",
      "100%|██████████| 3/3 [00:14<00:00,  4.98s/it]\n"
     ]
    },
    {
     "name": "stdout",
     "output_type": "stream",
     "text": [
      "\n",
      "client_loss:  1.793886009345873\n",
      "global_loss:  1.324019879484788\n",
      "\n",
      "round:  2\n",
      "client_idx:  [0 6 5]\n"
     ]
    },
    {
     "name": "stderr",
     "output_type": "stream",
     "text": [
      "100%|██████████| 3/3 [54:29<00:00, 1089.79s/it]\n",
      "100%|██████████| 3/3 [00:17<00:00,  5.84s/it]\n"
     ]
    },
    {
     "name": "stdout",
     "output_type": "stream",
     "text": [
      "\n",
      "client_loss:  4.323817493780617\n",
      "global_loss:  1.303869733443627\n",
      "\n",
      "round:  3\n",
      "client_idx:  [5 3 7]\n"
     ]
    },
    {
     "name": "stderr",
     "output_type": "stream",
     "text": [
      "100%|██████████| 3/3 [1:28:01<00:00, 1760.61s/it]\n",
      "100%|██████████| 3/3 [01:02<00:00, 20.76s/it]"
     ]
    },
    {
     "name": "stdout",
     "output_type": "stream",
     "text": [
      "\n",
      "client_loss:  4.455349904418958\n",
      "global_loss:  2.2412080825903478\n",
      "\n",
      "TIME: 200.69814513127008mins\n"
     ]
    },
    {
     "name": "stderr",
     "output_type": "stream",
     "text": [
      "\n"
     ]
    }
   ],
   "source": [
    "# Train Client Model and Global Model\n",
    "train_loss_client = []\n",
    "train_loss_global = []\n",
    "\n",
    "start_time = time.time()\n",
    "\n",
    "for r in range(num_rounds): # total number of rounds\n",
    "\n",
    "    print('\\nround: ', r+1)\n",
    "    # num_selected = random.choice(range(1,num_clients))\n",
    "    client_idx = np.random.permutation(num_clients)[:num_selected] # random pick some clients from all clients for train\n",
    "    print('client_idx: ',client_idx)\n",
    "    client_lens = [len(train_loader[devices[idx]]) for idx in client_idx ] \n",
    "    # client_lens = [len(train_loader[idx]) for idx in client_idx ]\n",
    "    # print(client_lens)\n",
    "\n",
    "\n",
    "    #### client update ####\n",
    "    loss = 0\n",
    "    for i in tqdm(range(num_selected)): \n",
    "        # print(i)\n",
    "        client_syn(client_models[i], global_model)\n",
    "        # print(train_loader[devices[client_idx[i]]])\n",
    "        loss += client_update(client_models[i], opt[i], train_loader[devices[client_idx[i]]], epochs)\n",
    "    train_loss_client.append(loss)\n",
    "\n",
    "\n",
    "    #### retraining on the global server ####\n",
    "    loss_retrain = 0\n",
    "    for i in tqdm(range(num_selected)): \n",
    "        loss_retrain += client_update(client_models[i], opt[i], baseline_data[devices[client_idx[i]]], retrain_epochs)\n",
    "    train_loss_global.append(loss_retrain/num_selected)\n",
    "\n",
    "\n",
    "    ### aggregate models ###\n",
    "    # server_aggregate(global_model, client_models, client_lens)      # FedAvg\n",
    "    server_aggregate_M(global_model, client_models, client_lens)    # FedAvgM\n",
    "\n",
    "    print(\"\\nclient_loss: \", loss)\n",
    "    print('global_loss: ', loss_retrain/num_selected)\n",
    "\n",
    "# save model\n",
    "torch.save(global_model,'global.pt')\n",
    "\n",
    "time_required = time.time() - start_time\n",
    "print('\\nTIME: {}mins'.format(time_required/60))"
   ]
  },
  {
   "cell_type": "code",
   "execution_count": 70,
   "metadata": {
    "colab": {
     "base_uri": "https://localhost:8080/",
     "height": 294
    },
    "executionInfo": {
     "elapsed": 31,
     "status": "ok",
     "timestamp": 1625208983402,
     "user": {
      "displayName": "Jane Zou",
      "photoUrl": "https://lh3.googleusercontent.com/a-/AOh14GiUdm9ehp01myA8qMFEjs9s-aJHKwnep3JuLYR0BQ=s64",
      "userId": "02362905829031895379"
     },
     "user_tz": -600
    },
    "id": "Ix3zjB1U63cb",
    "outputId": "b1773704-bc95-4668-9785-94fbf18df3cc"
   },
   "outputs": [
    {
     "data": {
      "image/png": "[encoded data removed]",
      "text/plain": [
       "<Figure size 640x480 with 1 Axes>"
      ]
     },
     "metadata": {},
     "output_type": "display_data"
    }
   ],
   "source": [
    "# train_loss_global\n",
    "plt.plot(train_loss_global)\n",
    "plt.xlabel('number of rounds')\n",
    "plt.ylabel('loss')\n",
    "plt.ylim((0, 3))\n",
    "plt.grid()\n",
    "plt.title('Federated Model with FedAvg (Monday - Friday)')\n",
    "plt.show()"
   ]
  },
  {
   "cell_type": "markdown",
   "metadata": {
    "id": "dK43oLbY9uNr"
   },
   "source": [
    "# Evaluation"
   ]
  },
  {
   "cell_type": "code",
   "execution_count": 129,
   "metadata": {
    "executionInfo": {
     "elapsed": 412,
     "status": "ok",
     "timestamp": 1625209098561,
     "user": {
      "displayName": "Jane Zou",
      "photoUrl": "https://lh3.googleusercontent.com/a-/AOh14GiUdm9ehp01myA8qMFEjs9s-aJHKwnep3JuLYR0BQ=s64",
      "userId": "02362905829031895379"
     },
     "user_tz": -600
    },
    "id": "h1HJ9RZw63Z-"
   },
   "outputs": [],
   "source": [
    "def get_tr(model, tr_data):\n",
    "    model.eval()\n",
    "    mse = np.mean(np.power(tr_data.cpu().detach().numpy() - model(tr_data).cpu().detach().numpy(), 2), axis=1)\n",
    "    tr = 0.0025 * mse.mean() + 0.0025 * mse.std()\n",
    "    return tr\n",
    "\n",
    "def perf_measure(y_actual, y_pred):\n",
    "    TP = 0\n",
    "    FP = 0\n",
    "    TN = 0\n",
    "    FN = 0\n",
    "    for i in range(len(y_pred)): \n",
    "        if y_actual[i]==y_pred[i]==1:\n",
    "           TP += 1\n",
    "        if y_pred[i]==1 and y_actual[i]!=y_pred[i]:\n",
    "           FP += 1\n",
    "        if y_actual[i]==y_pred[i]==0:\n",
    "           TN += 1\n",
    "        if y_pred[i]==0 and y_actual[i]!=y_pred[i]:\n",
    "           FN += 1\n",
    "    return (TP, FP, TN, FN)\n",
    "\n",
    "def get_mix_result(model, tr, mix_data, mix_label):\n",
    "    model.eval()\n",
    "    mse = np.mean(np.power(mix_data.cpu().detach().numpy() - model(mix_data).cpu().detach().numpy(), 2), axis=1)\n",
    "\n",
    "    prediction = []\n",
    "    for i in mse:\n",
    "        if i > tr:\n",
    "            prediction.append(1)\n",
    "        else:\n",
    "            prediction.append(0)\n",
    "    \n",
    "    mix_label_list = mix_label.tolist()\n",
    "    TP,FP,TN,FN = perf_measure(mix_label_list, prediction)\n",
    "    conf = [[TP, FN],[FP, TN]]\n",
    "    x_axis_label = ['abnormal', 'benign']\n",
    "    y_axis_label = ['abnormal', 'benign']\n",
    "    plt.figure()\n",
    "    sns.heatmap(conf,xticklabels=x_axis_label, yticklabels=y_axis_label, annot=True,annot_kws={\"size\": 16},fmt='g')\n",
    "\n",
    "    acc = (TP+TN) / (TP+TN+FP+FN)\n",
    "    precision = TP/(TP+FP)\n",
    "    recall = TP/(TP+FN)\n",
    "    F1score = 2 * ((precision * recall) / (precision + recall))\n",
    "\n",
    "    TPR = round((TP / (TP+FN)), 6) \n",
    "    # print('TPR is: {}%'.format(TPR))\n",
    "\n",
    "    FPR = round((FP / (FP + TN)), 6)\n",
    "    # print('TPR is: {}%'.format(FPR))\n",
    "\n",
    "    print('Acc: %.3f%% \\nPrecision: %.3f \\nRecall: %.3f \\nF1score: %.3f \\nTPR: %.5f \\nFPR: %.5f'%(acc*100, \n",
    "                                                                                                   precision, \n",
    "                                                                                                   recall, \n",
    "                                                                                                   F1score, \n",
    "                                                                                                   TPR, \n",
    "                                                                                                   FPR))\n",
    "    \n",
    "\n"
   ]
  },
  {
   "cell_type": "code",
   "execution_count": 130,
   "metadata": {
    "executionInfo": {
     "elapsed": 4,
     "status": "ok",
     "timestamp": 1625209098922,
     "user": {
      "displayName": "Jane Zou",
      "photoUrl": "https://lh3.googleusercontent.com/a-/AOh14GiUdm9ehp01myA8qMFEjs9s-aJHKwnep3JuLYR0BQ=s64",
      "userId": "02362905829031895379"
     },
     "user_tz": -600
    },
    "id": "oomBBYuq63WS"
   },
   "outputs": [],
   "source": [
    "# load model\n",
    "global_model = torch.load('global.pt', weights_only=False)"
   ]
  },
  {
   "cell_type": "markdown",
   "metadata": {
    "id": "0zKO6BUI97sa"
   },
   "source": [
    "# Test on client devices"
   ]
  },
  {
   "cell_type": "code",
   "execution_count": 131,
   "metadata": {
    "executionInfo": {
     "elapsed": 1262,
     "status": "ok",
     "timestamp": 1625209100180,
     "user": {
      "displayName": "Jane Zou",
      "photoUrl": "https://lh3.googleusercontent.com/a-/AOh14GiUdm9ehp01myA8qMFEjs9s-aJHKwnep3JuLYR0BQ=s64",
      "userId": "02362905829031895379"
     },
     "user_tz": -600
    },
    "id": "w-SKiqsY63PC"
   },
   "outputs": [],
   "source": [
    "# Calculate TR\n",
    "tr_1 = get_tr(global_model, benign_tr_1)\n",
    "tr_2 = get_tr(global_model, benign_tr_2)\n",
    "tr_3 = get_tr(global_model, benign_tr_3)\n",
    "tr_4 = get_tr(global_model, benign_tr_4)\n",
    "tr_5 = get_tr(global_model, benign_tr_5)\n",
    "tr_6 = get_tr(global_model, benign_tr_6)\n",
    "tr_7 = get_tr(global_model, benign_tr_7)\n",
    "tr_8 = get_tr(global_model, benign_tr_8)"
   ]
  },
  {
   "cell_type": "code",
   "execution_count": null,
   "metadata": {
    "colab": {
     "base_uri": "https://localhost:8080/",
     "height": 1000
    },
    "executionInfo": {
     "elapsed": 18397,
     "status": "ok",
     "timestamp": 1625209118571,
     "user": {
      "displayName": "Jane Zou",
      "photoUrl": "https://lh3.googleusercontent.com/a-/AOh14GiUdm9ehp01myA8qMFEjs9s-aJHKwnep3JuLYR0BQ=s64",
      "userId": "02362905829031895379"
     },
     "user_tz": -600
    },
    "id": "sXc6Y-8G63Lv",
    "outputId": "3400bb5f-bf94-4ecb-a63b-e1c1a671dac7"
   },
   "outputs": [
    {
     "name": "stdout",
     "output_type": "stream",
     "text": [
      "D1: \n",
      "Acc: 79.719% \n",
      "Precision: 0.797 \n",
      "Recall: 1.000 \n",
      "F1score: 0.887 \n",
      "TPR: 1.00000 \n",
      "FPR: 1.00000\n",
      "\n",
      "D2: \n",
      "Acc: 78.892% \n",
      "Precision: 0.789 \n",
      "Recall: 1.000 \n",
      "F1score: 0.882 \n",
      "TPR: 1.00000 \n",
      "FPR: 1.00000\n",
      "\n",
      "D3: \n",
      "Acc: 3.025% \n",
      "Precision: 0.030 \n",
      "Recall: 1.000 \n",
      "F1score: 0.059 \n",
      "TPR: 1.00000 \n",
      "FPR: 1.00000\n",
      "\n",
      "D4: \n"
     ]
    },
    {
     "ename": "ZeroDivisionError",
     "evalue": "division by zero",
     "output_type": "error",
     "traceback": [
      "\u001b[31m---------------------------------------------------------------------------\u001b[39m",
      "\u001b[31mZeroDivisionError\u001b[39m                         Traceback (most recent call last)",
      "\u001b[36mCell\u001b[39m\u001b[36m \u001b[39m\u001b[32mIn[132]\u001b[39m\u001b[32m, line 9\u001b[39m\n\u001b[32m      7\u001b[39m get_mix_result(global_model, tr_3, mix_data_3, mix_label_3)\n\u001b[32m      8\u001b[39m \u001b[38;5;28mprint\u001b[39m(\u001b[33m'\u001b[39m\u001b[38;5;130;01m\\n\u001b[39;00m\u001b[33mD4: \u001b[39m\u001b[33m'\u001b[39m)\n\u001b[32m----> \u001b[39m\u001b[32m9\u001b[39m \u001b[43mget_mix_result\u001b[49m\u001b[43m(\u001b[49m\u001b[43mglobal_model\u001b[49m\u001b[43m,\u001b[49m\u001b[43m \u001b[49m\u001b[43mtr_4\u001b[49m\u001b[43m,\u001b[49m\u001b[43m \u001b[49m\u001b[43mmix_data_4\u001b[49m\u001b[43m,\u001b[49m\u001b[43m \u001b[49m\u001b[43mmix_label_4\u001b[49m\u001b[43m)\u001b[49m\n",
      "\u001b[36mCell\u001b[39m\u001b[36m \u001b[39m\u001b[32mIn[129]\u001b[39m\u001b[32m, line 44\u001b[39m, in \u001b[36mget_mix_result\u001b[39m\u001b[34m(model, tr, mix_data, mix_label)\u001b[39m\n\u001b[32m     42\u001b[39m acc = (TP+TN) / (TP+TN+FP+FN)\n\u001b[32m     43\u001b[39m precision = TP/(TP+FP)\n\u001b[32m---> \u001b[39m\u001b[32m44\u001b[39m recall = \u001b[43mTP\u001b[49m\u001b[43m/\u001b[49m\u001b[43m(\u001b[49m\u001b[43mTP\u001b[49m\u001b[43m+\u001b[49m\u001b[43mFN\u001b[49m\u001b[43m)\u001b[49m\n\u001b[32m     45\u001b[39m F1score = \u001b[32m2\u001b[39m * ((precision * recall) / (precision + recall))\n\u001b[32m     47\u001b[39m TPR = \u001b[38;5;28mround\u001b[39m((TP / (TP+FN)), \u001b[32m6\u001b[39m) \n",
      "\u001b[31mZeroDivisionError\u001b[39m: division by zero"
     ]
    },
    {
     "data": {
      "image/png": "[encoded data removed]",
      "text/plain": [
       "<Figure size 640x480 with 2 Axes>"
      ]
     },
     "metadata": {},
     "output_type": "display_data"
    },
    {
     "data": {
      "image/png": "[encoded data removed]",
      "text/plain": [
       "<Figure size 640x480 with 2 Axes>"
      ]
     },
     "metadata": {},
     "output_type": "display_data"
    },
    {
     "data": {
      "image/png": "[encoded data removed]",
      "text/plain": [
       "<Figure size 640x480 with 2 Axes>"
      ]
     },
     "metadata": {},
     "output_type": "display_data"
    },
    {
     "data": {
      "image/png": "[encoded data removed]",
      "text/plain": [
       "<Figure size 640x480 with 2 Axes>"
      ]
     },
     "metadata": {},
     "output_type": "display_data"
    }
   ],
   "source": [
    "# use global model & device's TR\n",
    "print(\"D1: \")\n",
    "get_mix_result(global_model, tr_1, mix_data_1, mix_label_1)\n",
    "print('\\nD2: ')\n",
    "get_mix_result(global_model, tr_2, mix_data_2, mix_label_2)\n",
    "print(\"\\nD3: \")\n",
    "get_mix_result(global_model, tr_3, mix_data_3, mix_label_3)\n",
    "# print('\\nD4: ')\n",
    "# get_mix_result(global_model, tr_4, mix_data_4, mix_label_4)"
   ]
  },
  {
   "cell_type": "code",
   "execution_count": 133,
   "metadata": {
    "colab": {
     "base_uri": "https://localhost:8080/",
     "height": 1000
    },
    "executionInfo": {
     "elapsed": 16550,
     "status": "ok",
     "timestamp": 1625209135080,
     "user": {
      "displayName": "Jane Zou",
      "photoUrl": "https://lh3.googleusercontent.com/a-/AOh14GiUdm9ehp01myA8qMFEjs9s-aJHKwnep3JuLYR0BQ=s64",
      "userId": "02362905829031895379"
     },
     "user_tz": -600
    },
    "id": "bVr-bXHF625O",
    "outputId": "f3ef1e67-c2be-4645-b918-febb872a6a4d"
   },
   "outputs": [
    {
     "name": "stdout",
     "output_type": "stream",
     "text": [
      "\n",
      "D6: \n",
      "Acc: 3.744% \n",
      "Precision: 0.037 \n",
      "Recall: 1.000 \n",
      "F1score: 0.072 \n",
      "TPR: 1.00000 \n",
      "FPR: 1.00000\n",
      "\n",
      "D7: \n",
      "Acc: 8.765% \n",
      "Precision: 0.088 \n",
      "Recall: 1.000 \n",
      "F1score: 0.161 \n",
      "TPR: 1.00000 \n",
      "FPR: 1.00000\n",
      "\n",
      "D8: \n",
      "Acc: 63.274% \n",
      "Precision: 0.633 \n",
      "Recall: 1.000 \n",
      "F1score: 0.775 \n",
      "TPR: 1.00000 \n",
      "FPR: 1.00000\n"
     ]
    },
    {
     "data": {
      "image/png": "[encoded data removed]",
      "text/plain": [
       "<Figure size 640x480 with 2 Axes>"
      ]
     },
     "metadata": {},
     "output_type": "display_data"
    },
    {
     "data": {
      "image/png": "[encoded data removed]",
      "text/plain": [
       "<Figure size 640x480 with 2 Axes>"
      ]
     },
     "metadata": {},
     "output_type": "display_data"
    },
    {
     "data": {
      "image/png": "[encoded data removed]",
      "text/plain": [
       "<Figure size 640x480 with 2 Axes>"
      ]
     },
     "metadata": {},
     "output_type": "display_data"
    }
   ],
   "source": [
    "# print(\"D5: \")\n",
    "# get_mix_result(global_model, tr_5, mix_data_5, mix_label_5)\n",
    "print('\\nD6: ')\n",
    "get_mix_result(global_model, tr_6, mix_data_6, mix_label_6)\n",
    "print('\\nD7: ')\n",
    "get_mix_result(global_model, tr_7, mix_data_7, mix_label_7)\n",
    "print(\"\\nD8: \")\n",
    "get_mix_result(global_model, tr_8, mix_data_8, mix_label_8)"
   ]
  },
  {
   "cell_type": "markdown",
   "metadata": {
    "id": "5K4bO9aI-N0F"
   },
   "source": [
    "# Test on other devices"
   ]
  },
  {
   "cell_type": "code",
   "execution_count": 28,
   "metadata": {
    "executionInfo": {
     "elapsed": 14,
     "status": "ok",
     "timestamp": 1625209137373,
     "user": {
      "displayName": "Jane Zou",
      "photoUrl": "https://lh3.googleusercontent.com/a-/AOh14GiUdm9ehp01myA8qMFEjs9s-aJHKwnep3JuLYR0BQ=s64",
      "userId": "02362905829031895379"
     },
     "user_tz": -600
    },
    "id": "ZMMg7z7D620M"
   },
   "outputs": [],
   "source": []
  },
  {
   "cell_type": "code",
   "execution_count": 28,
   "metadata": {
    "executionInfo": {
     "elapsed": 14,
     "status": "ok",
     "timestamp": 1625209137374,
     "user": {
      "displayName": "Jane Zou",
      "photoUrl": "https://lh3.googleusercontent.com/a-/AOh14GiUdm9ehp01myA8qMFEjs9s-aJHKwnep3JuLYR0BQ=s64",
      "userId": "02362905829031895379"
     },
     "user_tz": -600
    },
    "id": "s7XVONru62xV"
   },
   "outputs": [],
   "source": []
  },
  {
   "cell_type": "code",
   "execution_count": 28,
   "metadata": {
    "executionInfo": {
     "elapsed": 14,
     "status": "ok",
     "timestamp": 1625209137375,
     "user": {
      "displayName": "Jane Zou",
      "photoUrl": "https://lh3.googleusercontent.com/a-/AOh14GiUdm9ehp01myA8qMFEjs9s-aJHKwnep3JuLYR0BQ=s64",
      "userId": "02362905829031895379"
     },
     "user_tz": -600
    },
    "id": "ztetjPv_62tT"
   },
   "outputs": [],
   "source": []
  },
  {
   "cell_type": "code",
   "execution_count": 28,
   "metadata": {
    "executionInfo": {
     "elapsed": 16,
     "status": "ok",
     "timestamp": 1625209137377,
     "user": {
      "displayName": "Jane Zou",
      "photoUrl": "https://lh3.googleusercontent.com/a-/AOh14GiUdm9ehp01myA8qMFEjs9s-aJHKwnep3JuLYR0BQ=s64",
      "userId": "02362905829031895379"
     },
     "user_tz": -600
    },
    "id": "iWDiVhzY62pX"
   },
   "outputs": [],
   "source": []
  },
  {
   "cell_type": "code",
   "execution_count": 28,
   "metadata": {
    "executionInfo": {
     "elapsed": 15,
     "status": "ok",
     "timestamp": 1625209137377,
     "user": {
      "displayName": "Jane Zou",
      "photoUrl": "https://lh3.googleusercontent.com/a-/AOh14GiUdm9ehp01myA8qMFEjs9s-aJHKwnep3JuLYR0BQ=s64",
      "userId": "02362905829031895379"
     },
     "user_tz": -600
    },
    "id": "X1GZVpCC8BOz"
   },
   "outputs": [],
   "source": []
  }
 ],
 "metadata": {
  "colab": {
   "collapsed_sections": [],
   "machine_shape": "hm",
   "name": "Federated Model.ipynb",
   "provenance": [],
   "toc_visible": true
  },
  "kernelspec": {
   "display_name": "myenv",
   "language": "python",
   "name": "python3"
  },
  "language_info": {
   "codemirror_mode": {
    "name": "ipython",
    "version": 3
   },
   "file_extension": ".py",
   "mimetype": "text/x-python",
   "name": "python",
   "nbconvert_exporter": "python",
   "pygments_lexer": "ipython3",
   "version": "3.12.3"
  }
 },
 "nbformat": 4,
 "nbformat_minor": 0
}
